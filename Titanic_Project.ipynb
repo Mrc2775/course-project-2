{
 "cells": [
  {
   "cell_type": "markdown",
   "id": "e86f223f",
   "metadata": {},
   "source": [
    "# Titanic Data Analysis Project\n",
    "This notebook analyzes the Titanic dataset using Pandas, Matplotlib, and Seaborn to explore survival patterns and answer key questions."
   ]
  },
  {
   "cell_type": "markdown",
   "id": "2954f684",
   "metadata": {},
   "source": [
    "## Problem Space\n",
    "**What:** Analyze Titanic passenger data to understand survival patterns.\n",
    "\n",
    "**Why:** The Titanic disaster is a well-known event and provides a classic dataset for survival analysis and machine learning practice.\n",
    "\n",
    "**Who:** Stakeholders include historians, data scientists, and enthusiasts interested in survival outcomes.\n",
    "\n",
    "**Where & When:** Data from the 1912 Titanic disaster."
   ]
  },
  {
   "cell_type": "markdown",
   "id": "d0198d5f",
   "metadata": {},
   "source": [
    "## Understanding the Dataset"
   ]
  },
  {
   "cell_type": "code",
   "execution_count": null,
   "id": "49d5cea8",
   "metadata": {},
   "outputs": [],
   "source": [
    "import pandas as pd\n",
    "import numpy as np\n",
    "import matplotlib.pyplot as plt\n",
    "import seaborn as sns\n",
    "sns.set()\n",
    "\n",
    "# Load Titanic dataset\n",
    "df = pd.read_csv('https://raw.githubusercontent.com/datasciencedojo/datasets/master/titanic.csv')\n",
    "df.info()\n",
    "df.describe()\n",
    "df.head()"
   ]
  },
  {
   "cell_type": "markdown",
   "id": "11d78792",
   "metadata": {},
   "source": [
    "## Questions to Address\n",
    "1. What percentage of passengers survived?\n",
    "2. Survival rate by passenger class?\n",
    "3. Survival rate by gender?\n",
    "4. Average age of survivors vs. non-survivors?\n",
    "5. How many traveled alone vs. with family?\n",
    "6. Did embarkation port affect survival?\n",
    "7. Fare distribution by class?\n",
    "8. Top names among survivors?\n",
    "9. Relationship between age and survival?\n",
    "10. Number of passengers with missing age data?"
   ]
  },
  {
   "cell_type": "markdown",
   "id": "931872aa",
   "metadata": {},
   "source": [
    "## Exploratory Data Analysis"
   ]
  },
  {
   "cell_type": "code",
   "execution_count": null,
   "id": "c235912e",
   "metadata": {},
   "outputs": [],
   "source": [
    "sns.countplot(x='Survived', data=df)\n",
    "plt.title('Survival Count')\n",
    "plt.show()\n",
    "\n",
    "sns.countplot(x='Pclass', hue='Survived', data=df)\n",
    "plt.title('Survival by Class')\n",
    "plt.show()\n",
    "\n",
    "df['Age'].hist(bins=30)\n",
    "plt.title('Age Distribution')\n",
    "plt.show()"
   ]
  },
  {
   "cell_type": "markdown",
   "id": "4e3ff4c1",
   "metadata": {},
   "source": [
    "## Data Analysis & Answers"
   ]
  },
  {
   "cell_type": "code",
   "execution_count": null,
   "id": "f32e6b0a",
   "metadata": {},
   "outputs": [],
   "source": [
    "# 1. Percentage survived\n",
    "print(f\"Survival rate: {df['Survived'].mean():.2%}\")\n",
    "\n",
    "# 2. Survival by class\n",
    "print(df.groupby('Pclass')['Survived'].mean())\n",
    "\n",
    "# 3. Survival by gender\n",
    "print(df.groupby('Sex')['Survived'].mean())\n",
    "\n",
    "# 4. Average age survivors vs. non-survivors\n",
    "print(df.groupby('Survived')['Age'].mean())\n",
    "\n",
    "# 5. Traveling alone\n",
    "df['Alone'] = df['SibSp'] + df['Parch']\n",
    "print(df['Alone'].value_counts())\n",
    "\n",
    "# 6. Survival by embarkation port\n",
    "print(df.groupby('Embarked')['Survived'].mean())\n",
    "\n",
    "# 7. Fare distribution by class\n",
    "print(df.groupby('Pclass')['Fare'].describe())\n",
    "\n",
    "# 8. Top survivor names\n",
    "print(df[df['Survived'] == 1]['Name'].head())\n",
    "\n",
    "# 9. Age and survival\n",
    "sns.boxplot(x='Survived', y='Age', data=df)\n",
    "plt.title('Age vs. Survival')\n",
    "plt.show()\n",
    "\n",
    "# 10. Missing age data\n",
    "print(f\"Missing age entries: {df['Age'].isnull().sum()}\")"
   ]
  },
  {
   "cell_type": "markdown",
   "id": "83f92304",
   "metadata": {},
   "source": [
    "## Presentation of Insights\n",
    "- Overall survival rate was ~38%.\n",
    "- Women had ~74% survival, men ~19%.\n",
    "- First-class survival ~63%, third class ~24%.\n",
    "- Younger passengers slightly more likely to survive.\n",
    "- Cherbourg embarkation had highest survival rate.\n",
    "- First-class passengers paid significantly more."
   ]
  }
 ],
 "metadata": {},
 "nbformat": 4,
 "nbformat_minor": 5
}
